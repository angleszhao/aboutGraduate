{
 "cells": [
  {
   "cell_type": "code",
   "execution_count": 38,
   "metadata": {},
   "outputs": [],
   "source": [
    "import os\n",
    "def savecoordinate(input_person_path,save_person_path):\n",
    "#    inf=open(input_person_path)\n",
    "    outf=open(save_person_path,\"w\")\n",
    "#    fnamelist=os.listdir(input_person_path)\n",
    "    name_coor={}\n",
    "    for fname in os.listdir(input_person_path):\n",
    "        pindex=fname.split('.')[0].split(\"_\")[-1]\n",
    "        y1=fname.split('.')[1].split(\"_\")[2]\n",
    "        x1=fname.split('.')[1].split(\"_\")[3]\n",
    "        y2=fname.split('.')[1].split(\"_\")[4]\n",
    "        x2=fname.split('.')[1].split(\"_\")[5]\n",
    "        name_coor[int(pindex)]=[y1,x1,y2,x2]\n",
    "    for i in range(2100,2200):#(1,pic_number+1):\n",
    "        coors=[0,0,0,0]\n",
    "        if i in name_coor:#name_coor.has_key(i):\n",
    "            coors=name_coor[i]\n",
    "        else:\n",
    "            coors=name_coor[i-1]\n",
    "            name_coor[i]=coors\n",
    "        outf.write(str(i)+\":\"+(','.join(coors))+\"\\n\")\n",
    "#    inf.close()\n",
    "    outf.close()\n",
    "\n",
    "input_file_path=\"../20180606/20180606_sameperson\"#\"20180606_img-CH10-2_crop\"#\"CH05/0\"\n",
    "save_person_paths=[]\n",
    "for fname in os.listdir(input_file_path):\n",
    "    if not fname==\".ipynb_checkpoints\" and not fname==\"nones\" :\n",
    "        input_person_path=input_file_path+\"/\"+fname\n",
    "        save_person_path=\"save_coordinate\"+fname+\".txt\"\n",
    "        save_person_paths.append(save_person_path)\n",
    "        savecoordinate(input_person_path,save_person_path)\n",
    "#pic_number=9230\n",
    "#save_person_path=\"save_coordinate_0.txt\"\n",
    "#savecoordinate(input_person_path,save_person_path,pic_number)\n"
   ]
  },
  {
   "cell_type": "code",
   "execution_count": 39,
   "metadata": {
    "scrolled": false
   },
   "outputs": [],
   "source": [
    "#import os\n",
    "#import io\n",
    "#from skimage import draw,data,io\n",
    "import matplotlib.pyplot as plt\n",
    "from PIL import Image, ImageDraw\n",
    "import shutil\n",
    "\n",
    "#img=io.imread('../20180606/img-CH10-2/20180606_164330_CH10_1001.jpg')#data.coffee()\n",
    "shutil.copyfile('../20180606/img-CH10-2/20180606_164330_CH10_2100.jpg','p1.jpg') \n",
    "img=Image.open(\"p1.jpg\")\n",
    "draw=ImageDraw.Draw(img)\n",
    "#y1=(802+1485)/2\n",
    "#x1=(10+339)/2\n",
    "#y2=(1364+1517)/2\n",
    "#x2=(1132+1352)/2\n",
    "colors=[(255,0,0),(0,255,0),(0,0,255)]\n",
    "for save_person_path in save_person_paths:\n",
    "    f=open(save_person_path)\n",
    "    lines=f.readlines()\n",
    "    for num in range(len(lines)-1):\n",
    "        line1=lines[num]\n",
    "        c1=line1.split(\":\")[1]\n",
    "        y1=(int(c1.split(\",\")[0])+int(c1.split(\",\")[2]))/2\n",
    "        x1=(int(c1.split(\",\")[1])+int(c1.split(\",\")[3]))/2\n",
    "        line2=lines[num+1]\n",
    "        c2=line2.split(\":\")[1]\n",
    "        y2=(int(c2.split(\",\")[0])+int(c2.split(\",\")[2]))/2\n",
    "        x2=(int(c2.split(\",\")[1])+int(c2.split(\",\")[3]))/2\n",
    "        draw.line([(x1, y1), (x2, y2)],fill=colors[save_person_paths.index(save_person_path)],width=5)\n",
    "img.show()\n",
    "img.save(\"p1.jpg\")\n",
    "#img[rr, cc] =[255,0,0]\n",
    "#io.imshow(img)\n",
    "#io.imsave('p1.jpg',img)"
   ]
  },
  {
   "cell_type": "code",
   "execution_count": null,
   "metadata": {},
   "outputs": [],
   "source": []
  }
 ],
 "metadata": {
  "kernelspec": {
   "display_name": "Python 3",
   "language": "python",
   "name": "python3"
  },
  "language_info": {
   "codemirror_mode": {
    "name": "ipython",
    "version": 3
   },
   "file_extension": ".py",
   "mimetype": "text/x-python",
   "name": "python",
   "nbconvert_exporter": "python",
   "pygments_lexer": "ipython3",
   "version": "3.5.2"
  }
 },
 "nbformat": 4,
 "nbformat_minor": 2
}
