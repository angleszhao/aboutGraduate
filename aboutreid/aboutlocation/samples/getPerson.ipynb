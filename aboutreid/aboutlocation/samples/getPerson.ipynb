{
 "cells": [
  {
   "cell_type": "code",
   "execution_count": 2,
   "metadata": {},
   "outputs": [],
   "source": [
    "import os\n",
    "import sys\n",
    "import shutil\n",
    "image_path='20180516_155201_CH05_pic_crop/'\n",
    "#file_names = next(os.walk(image_path))[2]\n",
    "new_path='20180516_155201_CH05_pic_recog/phone/'\n",
    "for fname in os.listdir('20180516_155201_CH05_pic_crop/'):\n",
    "    kind=fname.split('_')[-1].split('.')[0];\n",
    "#    fen=fname.split('_')[-2];\n",
    " #   pic=fname[0:fname.index(fname.split('_')[-3])];\n",
    "  #  print(kind+\"---\"+fen+\"===\"+pic+'******')\n",
    "    if kind=='cell-phone':#'person':\n",
    "  #      print('true')\n",
    "        shutil.copyfile(image_path+fname,new_path+fname)"
   ]
  },
  {
   "cell_type": "code",
   "execution_count": 1,
   "metadata": {},
   "outputs": [],
   "source": [
    "import os\n",
    "#from PIL import Image\n",
    "#from pylab import * \n",
    "from skimage import draw,data\n",
    "\n",
    "def savecoordinate(input_person_path,save_person_path,pic_number):\n",
    "#    inf=open(input_person_path)\n",
    "    outf=open(save_person_path,\"w\")\n",
    "#    fnamelist=os.listdir(input_person_path)\n",
    "    name_coor={}\n",
    "    for fname in os.listdir(input_person_path):\n",
    "        pindex=fname.split('.')[0].split(\"_\")[-1]\n",
    "        y1=fname.split('.')[1].split(\"_\")[2]\n",
    "        x1=fname.split('.')[1].split(\"_\")[3]\n",
    "        y2=fname.split('.')[1].split(\"_\")[4]\n",
    "        x2=fname.split('.')[1].split(\"_\")[5]\n",
    "        name_coor[int(pindex)]=[y1,x1,y2,x2]\n",
    "\n",
    "    for i in range(1,pic_number+1):\n",
    "        coors=[0,0,0,0]\n",
    "        if name_coor.has_key(i):\n",
    "            coors=name_coor[i]\n",
    "        else:\n",
    "            coors=name_coor[i-1]\n",
    "            name_coor[i]=coors\n",
    "        outf.write(str(i)+\":\"+(','.join(coors))+\"\\n\")\n",
    "#    inf.close()\n",
    "    outf.close()\n",
    "\n",
    "def drawline(thepic,save_person_path,savepic):\n",
    "#    im=array(Image.open(thepic))\n",
    "    x=[100,100,400,400]\n",
    "    y=[200,500,200,500]\n",
    "    img=data.coffee()\n",
    "    rr, cc =draw.line(1, 150, 300, 300)\n",
    "    img[rr, cc] =[0,0,255]\n",
    "\n",
    "if __name__ == '__main__':\n",
    "    input_person_path=\"CH05/0\"\n",
    "    pic_number=9230\n",
    "    save_person_path=\"save_coordinate/0.txt\"\n",
    "#    savecoordinate(input_person_path,save_person_path,pic_number)\n",
    "    thepic=\"save_coordinate/pic1.jpg\"\n",
    "    savepic=\"save_coordinate/pic2.jpg\"\n",
    "    drawline(thepic,save_person_path,savepic)"
   ]
  },
  {
   "cell_type": "code",
   "execution_count": null,
   "metadata": {},
   "outputs": [],
   "source": []
  }
 ],
 "metadata": {
  "kernelspec": {
   "display_name": "Python 3",
   "language": "python",
   "name": "python3"
  },
  "language_info": {
   "codemirror_mode": {
    "name": "ipython",
    "version": 3
   },
   "file_extension": ".py",
   "mimetype": "text/x-python",
   "name": "python",
   "nbconvert_exporter": "python",
   "pygments_lexer": "ipython3",
   "version": "3.5.2"
  }
 },
 "nbformat": 4,
 "nbformat_minor": 2
}
